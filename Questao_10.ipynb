{
 "cells": [
  {
   "cell_type": "markdown",
   "id": "7d2377ae",
   "metadata": {
    "papermill": {
     "duration": 0.004051,
     "end_time": "2025-10-27T15:55:20.109002",
     "exception": false,
     "start_time": "2025-10-27T15:55:20.104951",
     "status": "completed"
    },
    "tags": []
   },
   "source": [
    "<h1 style=\"text-align: center; color: blue;\">\n",
    "ADS ~ UNIFACISA <br>\n",
    "Projeto Integrador IA\n",
    "</h1>\n",
    "\n",
    "#### Autor : Tawan Barbosa da Silva\n",
    "#### Desafio Unifacisa ~ Questão 10\n",
    "\n",
    "\n",
    "---\n",
    "\n",
    "> # <center>Previsão de Vendas Mensais em Rede de Varejo 📊 </center>\n",
    "\n",
    "---"
   ]
  },
  {
   "cell_type": "markdown",
   "id": "94f5434a",
   "metadata": {
    "papermill": {
     "duration": 0.003014,
     "end_time": "2025-10-27T15:55:20.115525",
     "exception": false,
     "start_time": "2025-10-27T15:55:20.112511",
     "status": "completed"
    },
    "tags": []
   },
   "source": [
    "# 1. Ask ~ Pergunta Principal\n",
    "\n",
    "---\n",
    "\n",
    "## Pergunta Principal\n",
    "\n",
    "><i> **Com base em variáveis operacionais e promocionais (publicidade, funcionários, sazonalidade), qual é o modelo de Machine Learning mais preciso para prever as vendas mensais, garantindo a menor margem de erro?\"**\n",
    "</i>\n",
    "\n",
    "\n",
    "## Objetivo do Projeto\n",
    "\n",
    "\n",
    "><i> O objetivo técnico é construir, treinar e comparar múltiplos modelos de regressão para previsão de vendas, focando em:\n",
    "</i>\n",
    "\n",
    "* Minimizar o Erro: Atingir o menor valor de RMSE e MAE no conjunto de testes.\n",
    "* Maximizar o Ajuste: Obter o maior valor de $R^2$ (Coeficiente de Determinação).\n",
    "* Identificar Fatores Chave: Realizar a Análise de Importância de Variáveis para determinar quais fatores (publicidade, promoções, etc.) são mais impactantes nas vendas.\n",
    "\n",
    "\n",
    "---"
   ]
  },
  {
   "cell_type": "markdown",
   "id": "71a46339",
   "metadata": {
    "papermill": {
     "duration": 0.00292,
     "end_time": "2025-10-27T15:55:20.121602",
     "exception": false,
     "start_time": "2025-10-27T15:55:20.118682",
     "status": "completed"
    },
    "tags": []
   },
   "source": [
    "# 2. Prepare ~ Coleta e Entendimento dos Dados\n",
    "---\n",
    "><i> **Usaremos o dataset Rossmann Store Sales (Kaggle)**\n",
    "\n",
    "\n",
    "<h3 style=\"color: #FF4500; margin-top: 0; margin-bottom: 5px;\">Principais Arquivos:</h3> <br>\n",
    "\n",
    "store.csv — Informações fixas sobre cada loja (StoreType, Assortment, CompetitionDistance, Promo2, etc.)\n",
    "\n",
    "train.csv — Vendas históricas diárias (Date, Store, Sales, Customers, Promo, SchoolHoliday, etc.)"
   ]
  },
  {
   "cell_type": "code",
   "execution_count": 1,
   "id": "22f4aa64",
   "metadata": {
    "execution": {
     "iopub.execute_input": "2025-10-27T15:55:20.129259Z",
     "iopub.status.busy": "2025-10-27T15:55:20.128933Z",
     "iopub.status.idle": "2025-10-27T15:55:28.544529Z",
     "shell.execute_reply": "2025-10-27T15:55:28.543633Z"
    },
    "papermill": {
     "duration": 8.421463,
     "end_time": "2025-10-27T15:55:28.546163",
     "exception": false,
     "start_time": "2025-10-27T15:55:20.124700",
     "status": "completed"
    },
    "tags": []
   },
   "outputs": [
    {
     "name": "stdout",
     "output_type": "stream",
     "text": [
      "--- Inspeção Inicial ---\n",
      "Shape do Treino (Vendas): (1017209, 9)\n",
      "Shape da Store (Características das Lojas): (1115, 10)\n",
      "\n",
      "Shape Final Após Junção e Remoção de Vendas Zeradas: (844338, 18)\n"
     ]
    },
    {
     "name": "stderr",
     "output_type": "stream",
     "text": [
      "/usr/local/lib/python3.11/dist-packages/pandas/io/formats/format.py:1458: RuntimeWarning: invalid value encountered in greater\n",
      "  has_large_values = (abs_vals > 1e6).any()\n",
      "/usr/local/lib/python3.11/dist-packages/pandas/io/formats/format.py:1459: RuntimeWarning: invalid value encountered in less\n",
      "  has_small_values = ((abs_vals < 10 ** (-self.digits)) & (abs_vals > 0)).any()\n",
      "/usr/local/lib/python3.11/dist-packages/pandas/io/formats/format.py:1459: RuntimeWarning: invalid value encountered in greater\n",
      "  has_small_values = ((abs_vals < 10 ** (-self.digits)) & (abs_vals > 0)).any()\n"
     ]
    },
    {
     "data": {
      "text/html": [
       "<div>\n",
       "<style scoped>\n",
       "    .dataframe tbody tr th:only-of-type {\n",
       "        vertical-align: middle;\n",
       "    }\n",
       "\n",
       "    .dataframe tbody tr th {\n",
       "        vertical-align: top;\n",
       "    }\n",
       "\n",
       "    .dataframe thead th {\n",
       "        text-align: right;\n",
       "    }\n",
       "</style>\n",
       "<table border=\"1\" class=\"dataframe\">\n",
       "  <thead>\n",
       "    <tr style=\"text-align: right;\">\n",
       "      <th></th>\n",
       "      <th>Store</th>\n",
       "      <th>DayOfWeek</th>\n",
       "      <th>Date</th>\n",
       "      <th>Sales</th>\n",
       "      <th>Customers</th>\n",
       "      <th>Open</th>\n",
       "      <th>Promo</th>\n",
       "      <th>StateHoliday</th>\n",
       "      <th>SchoolHoliday</th>\n",
       "      <th>StoreType</th>\n",
       "      <th>Assortment</th>\n",
       "      <th>CompetitionDistance</th>\n",
       "      <th>CompetitionOpenSinceMonth</th>\n",
       "      <th>CompetitionOpenSinceYear</th>\n",
       "      <th>Promo2</th>\n",
       "      <th>Promo2SinceWeek</th>\n",
       "      <th>Promo2SinceYear</th>\n",
       "      <th>PromoInterval</th>\n",
       "    </tr>\n",
       "  </thead>\n",
       "  <tbody>\n",
       "    <tr>\n",
       "      <th>0</th>\n",
       "      <td>1</td>\n",
       "      <td>5</td>\n",
       "      <td>2015-07-31</td>\n",
       "      <td>5263</td>\n",
       "      <td>555</td>\n",
       "      <td>1</td>\n",
       "      <td>1</td>\n",
       "      <td>0</td>\n",
       "      <td>1</td>\n",
       "      <td>c</td>\n",
       "      <td>a</td>\n",
       "      <td>1270.0</td>\n",
       "      <td>9.0</td>\n",
       "      <td>2008.0</td>\n",
       "      <td>0</td>\n",
       "      <td>NaN</td>\n",
       "      <td>NaN</td>\n",
       "      <td>NaN</td>\n",
       "    </tr>\n",
       "    <tr>\n",
       "      <th>1</th>\n",
       "      <td>2</td>\n",
       "      <td>5</td>\n",
       "      <td>2015-07-31</td>\n",
       "      <td>6064</td>\n",
       "      <td>625</td>\n",
       "      <td>1</td>\n",
       "      <td>1</td>\n",
       "      <td>0</td>\n",
       "      <td>1</td>\n",
       "      <td>a</td>\n",
       "      <td>a</td>\n",
       "      <td>570.0</td>\n",
       "      <td>11.0</td>\n",
       "      <td>2007.0</td>\n",
       "      <td>1</td>\n",
       "      <td>13.0</td>\n",
       "      <td>2010.0</td>\n",
       "      <td>Jan,Apr,Jul,Oct</td>\n",
       "    </tr>\n",
       "    <tr>\n",
       "      <th>2</th>\n",
       "      <td>3</td>\n",
       "      <td>5</td>\n",
       "      <td>2015-07-31</td>\n",
       "      <td>8314</td>\n",
       "      <td>821</td>\n",
       "      <td>1</td>\n",
       "      <td>1</td>\n",
       "      <td>0</td>\n",
       "      <td>1</td>\n",
       "      <td>a</td>\n",
       "      <td>a</td>\n",
       "      <td>14130.0</td>\n",
       "      <td>12.0</td>\n",
       "      <td>2006.0</td>\n",
       "      <td>1</td>\n",
       "      <td>14.0</td>\n",
       "      <td>2011.0</td>\n",
       "      <td>Jan,Apr,Jul,Oct</td>\n",
       "    </tr>\n",
       "    <tr>\n",
       "      <th>3</th>\n",
       "      <td>4</td>\n",
       "      <td>5</td>\n",
       "      <td>2015-07-31</td>\n",
       "      <td>13995</td>\n",
       "      <td>1498</td>\n",
       "      <td>1</td>\n",
       "      <td>1</td>\n",
       "      <td>0</td>\n",
       "      <td>1</td>\n",
       "      <td>c</td>\n",
       "      <td>c</td>\n",
       "      <td>620.0</td>\n",
       "      <td>9.0</td>\n",
       "      <td>2009.0</td>\n",
       "      <td>0</td>\n",
       "      <td>NaN</td>\n",
       "      <td>NaN</td>\n",
       "      <td>NaN</td>\n",
       "    </tr>\n",
       "    <tr>\n",
       "      <th>4</th>\n",
       "      <td>5</td>\n",
       "      <td>5</td>\n",
       "      <td>2015-07-31</td>\n",
       "      <td>4822</td>\n",
       "      <td>559</td>\n",
       "      <td>1</td>\n",
       "      <td>1</td>\n",
       "      <td>0</td>\n",
       "      <td>1</td>\n",
       "      <td>a</td>\n",
       "      <td>a</td>\n",
       "      <td>29910.0</td>\n",
       "      <td>4.0</td>\n",
       "      <td>2015.0</td>\n",
       "      <td>0</td>\n",
       "      <td>NaN</td>\n",
       "      <td>NaN</td>\n",
       "      <td>NaN</td>\n",
       "    </tr>\n",
       "  </tbody>\n",
       "</table>\n",
       "</div>"
      ],
      "text/plain": [
       "   Store  DayOfWeek        Date  Sales  Customers  Open  Promo StateHoliday  \\\n",
       "0      1          5  2015-07-31   5263        555     1      1            0   \n",
       "1      2          5  2015-07-31   6064        625     1      1            0   \n",
       "2      3          5  2015-07-31   8314        821     1      1            0   \n",
       "3      4          5  2015-07-31  13995       1498     1      1            0   \n",
       "4      5          5  2015-07-31   4822        559     1      1            0   \n",
       "\n",
       "   SchoolHoliday StoreType Assortment  CompetitionDistance  \\\n",
       "0              1         c          a               1270.0   \n",
       "1              1         a          a                570.0   \n",
       "2              1         a          a              14130.0   \n",
       "3              1         c          c                620.0   \n",
       "4              1         a          a              29910.0   \n",
       "\n",
       "   CompetitionOpenSinceMonth  CompetitionOpenSinceYear  Promo2  \\\n",
       "0                        9.0                    2008.0       0   \n",
       "1                       11.0                    2007.0       1   \n",
       "2                       12.0                    2006.0       1   \n",
       "3                        9.0                    2009.0       0   \n",
       "4                        4.0                    2015.0       0   \n",
       "\n",
       "   Promo2SinceWeek  Promo2SinceYear    PromoInterval  \n",
       "0              NaN              NaN              NaN  \n",
       "1             13.0           2010.0  Jan,Apr,Jul,Oct  \n",
       "2             14.0           2011.0  Jan,Apr,Jul,Oct  \n",
       "3              NaN              NaN              NaN  \n",
       "4              NaN              NaN              NaN  "
      ]
     },
     "metadata": {},
     "output_type": "display_data"
    }
   ],
   "source": [
    "# Bibliotecas\n",
    "import pandas as pd\n",
    "import numpy as np\n",
    "import matplotlib.pyplot as plt\n",
    "import seaborn as sns\n",
    "from pathlib import Path\n",
    "\n",
    "from sklearn.preprocessing import StandardScaler\n",
    "from sklearn.model_selection import train_test_split\n",
    "from sklearn.linear_model import LinearRegression\n",
    "from sklearn.tree import DecisionTreeRegressor\n",
    "from xgboost import XGBRegressor\n",
    "from sklearn.metrics import mean_squared_error, mean_absolute_error, r2_score\n",
    "import time\n",
    "\n",
    "# Caminho do Dataset e Load dos Dados\n",
    "path = Path('/kaggle/input/rossmann-store-sales')\n",
    "\n",
    "store = pd.read_csv(path / 'store.csv')\n",
    "train = pd.read_csv(path / 'train.csv', low_memory=False)\n",
    "\n",
    "# 1. Inspeção Inicial\n",
    "print(\"--- Inspeção Inicial ---\")\n",
    "print(f\"Shape do Treino (Vendas): {train.shape}\")\n",
    "print(f\"Shape da Store (Características das Lojas): {store.shape}\")\n",
    "\n",
    "# Merge dos Dados\n",
    "df = train.merge(store, on='Store', how='left')\n",
    "\n",
    "# Limpeza de Dados (Remoção de Vendas Zeradas)\n",
    "df = df[df['Sales'] > 0]\n",
    "\n",
    "print(f\"\\nShape Final Após Junção e Remoção de Vendas Zeradas: {df.shape}\")\n",
    "display(df.head())"
   ]
  },
  {
   "cell_type": "markdown",
   "id": "ff0df973",
   "metadata": {
    "papermill": {
     "duration": 0.003458,
     "end_time": "2025-10-27T15:55:28.553387",
     "exception": false,
     "start_time": "2025-10-27T15:55:28.549929",
     "status": "completed"
    },
    "tags": []
   },
   "source": [
    "---\n",
    "# 3. Process ~ Feature Engineering e Pré-processamento\n",
    "Esta fase realiza um tratamento e transforma os dados brutos em um formato que os modelos podem entender.\n",
    "\n",
    "---\n",
    "\n",
    "<h3 style=\"color: #FF4500; margin-top: 0; margin-bottom: 5px;\">Tarefas:</h3> <br>\n",
    "\n",
    "* Engenharia de Variáveis de Tempo: Desdobramento da data (Date) em variáveis de sazonalidade (Year, Month, WeekOfYear) para capturar o impacto do tempo nas vendas.\n",
    "\n",
    "* Tratamento de Ausentes e Conversão: Preenchimento de valores faltantes (NaN) e conversão das características de loja (StoreType, Assortment) de texto para formato numérico (codificação).\n",
    "\n",
    "* Limpeza Final de Dados: Remoção de colunas textuais redundantes (Date, PromoInterval) e seleção das variáveis preditivas para a regressão."
   ]
  },
  {
   "cell_type": "code",
   "execution_count": 2,
   "id": "bbf07a22",
   "metadata": {
    "execution": {
     "iopub.execute_input": "2025-10-27T15:55:28.561650Z",
     "iopub.status.busy": "2025-10-27T15:55:28.561326Z",
     "iopub.status.idle": "2025-10-27T15:55:29.467712Z",
     "shell.execute_reply": "2025-10-27T15:55:29.466679Z"
    },
    "papermill": {
     "duration": 0.912854,
     "end_time": "2025-10-27T15:55:29.469708",
     "exception": false,
     "start_time": "2025-10-27T15:55:28.556854",
     "status": "completed"
    },
    "tags": []
   },
   "outputs": [
    {
     "name": "stdout",
     "output_type": "stream",
     "text": [
      "Colunas finais para modelagem: ['DayOfWeek', 'Sales', 'Open', 'Promo', 'StateHoliday', 'SchoolHoliday', 'StoreType', 'Assortment', 'CompetitionDistance', 'CompetitionOpenSinceMonth', 'CompetitionOpenSinceYear', 'Promo2', 'Promo2SinceWeek', 'Promo2SinceYear', 'Year', 'Month', 'Day', 'WeekOfYear']\n"
     ]
    },
    {
     "name": "stderr",
     "output_type": "stream",
     "text": [
      "/tmp/ipykernel_13/708203886.py:30: FutureWarning: Downcasting behavior in `replace` is deprecated and will be removed in a future version. To retain the old behavior, explicitly call `result.infer_objects(copy=False)`. To opt-in to the future behavior, set `pd.set_option('future.no_silent_downcasting', True)`\n",
      "  df['StateHoliday'] = df['StateHoliday'].replace(state_holiday_mapping).astype(int)\n"
     ]
    }
   ],
   "source": [
    "# Feature Engineering\n",
    "\n",
    "# Tratamento de Datas\n",
    "# A coluna 'Date' é convertida e decomposta para capturar a sazonalidade\n",
    "\n",
    "df['Date'] = pd.to_datetime(df['Date'])\n",
    "df['Year'] = df['Date'].dt.year\n",
    "df['Month'] = df['Date'].dt.month\n",
    "df['Day'] = df['Date'].dt.day\n",
    "df['WeekOfYear'] = df['Date'].dt.isocalendar().week.astype(int) # Sazonalidade semanal/mensal\n",
    "\n",
    "\n",
    "# Tratamento de variaveis ausentes (NaN)\n",
    "# A tabela 'store' possui alguns valores ausentes que precisam ser preenchidos:\n",
    "df['CompetitionDistance'] = df['CompetitionDistance'].fillna(df['CompetitionDistance'].median())\n",
    "df['CompetitionOpenSinceMonth'] = df['CompetitionOpenSinceMonth'].fillna(0)\n",
    "df['CompetitionOpenSinceYear'] = df['CompetitionOpenSinceYear'].fillna(0)\n",
    "df['Promo2SinceWeek'] = df['Promo2SinceWeek'].fillna(0)\n",
    "df['Promo2SinceYear'] = df['Promo2SinceYear'].fillna(0)\n",
    "\n",
    "# Tratamento de variaveis categoricas e nominais\n",
    "\n",
    "store_type_mapping = {'a': 1, 'b': 2, 'c': 3, 'd': 4}\n",
    "df['StoreType'] = df['StoreType'].map(store_type_mapping)\n",
    "\n",
    "assortment_mapping = {'a': 1, 'b': 2, 'c': 3}\n",
    "df['Assortment'] = df['Assortment'].map(assortment_mapping)\n",
    "\n",
    "state_holiday_mapping = {'0': 0, 'a': 1, 'b': 2, 'c': 3}\n",
    "df['StateHoliday'] = df['StateHoliday'].replace(state_holiday_mapping).astype(int)\n",
    "\n",
    "# Dropar colunas que não são mais necessárias ou são textuais\n",
    "df = df.drop(columns=['Date', 'Customers', 'Store', 'PromoInterval']) \n",
    "\n",
    "print(f\"Colunas finais para modelagem: {df.columns.tolist()}\")\n",
    "\n",
    "# O valor alvo (target) será a coluna 'Sales'\n",
    "TARGET_COLUMN = 'Sales'"
   ]
  },
  {
   "cell_type": "markdown",
   "id": "660fe061",
   "metadata": {
    "papermill": {
     "duration": 0.003935,
     "end_time": "2025-10-27T15:55:29.477871",
     "exception": false,
     "start_time": "2025-10-27T15:55:29.473936",
     "status": "completed"
    },
    "tags": []
   },
   "source": [
    "---\n",
    "# 4. Analyze ~ Modelagem e Primeira Comparação\n",
    "\n",
    ">  Nesta fase, construiremos os modelos, treinaremos e compararemos o desempenho."
   ]
  },
  {
   "cell_type": "code",
   "execution_count": 3,
   "id": "73054506",
   "metadata": {
    "execution": {
     "iopub.execute_input": "2025-10-27T15:55:29.486699Z",
     "iopub.status.busy": "2025-10-27T15:55:29.486381Z",
     "iopub.status.idle": "2025-10-27T15:55:38.627400Z",
     "shell.execute_reply": "2025-10-27T15:55:38.626367Z"
    },
    "papermill": {
     "duration": 9.147195,
     "end_time": "2025-10-27T15:55:38.628831",
     "exception": false,
     "start_time": "2025-10-27T15:55:29.481636",
     "status": "completed"
    },
    "tags": []
   },
   "outputs": [
    {
     "name": "stdout",
     "output_type": "stream",
     "text": [
      "\n",
      "--- Tabela de Comparação de Desempenho ---\n"
     ]
    },
    {
     "data": {
      "text/html": [
       "<div>\n",
       "<style scoped>\n",
       "    .dataframe tbody tr th:only-of-type {\n",
       "        vertical-align: middle;\n",
       "    }\n",
       "\n",
       "    .dataframe tbody tr th {\n",
       "        vertical-align: top;\n",
       "    }\n",
       "\n",
       "    .dataframe thead th {\n",
       "        text-align: right;\n",
       "    }\n",
       "</style>\n",
       "<table border=\"1\" class=\"dataframe\">\n",
       "  <thead>\n",
       "    <tr style=\"text-align: right;\">\n",
       "      <th></th>\n",
       "      <th>Modelo</th>\n",
       "      <th>RMSE</th>\n",
       "      <th>MAE</th>\n",
       "      <th>R2</th>\n",
       "      <th>Tempo (s)</th>\n",
       "    </tr>\n",
       "  </thead>\n",
       "  <tbody>\n",
       "    <tr>\n",
       "      <th>2</th>\n",
       "      <td>XGBoost</td>\n",
       "      <td>1836.984277</td>\n",
       "      <td>1341.958881</td>\n",
       "      <td>0.650294</td>\n",
       "      <td>4.50</td>\n",
       "    </tr>\n",
       "    <tr>\n",
       "      <th>1</th>\n",
       "      <td>Árvore de Decisão</td>\n",
       "      <td>2208.959635</td>\n",
       "      <td>1596.008723</td>\n",
       "      <td>0.494329</td>\n",
       "      <td>3.16</td>\n",
       "    </tr>\n",
       "    <tr>\n",
       "      <th>0</th>\n",
       "      <td>Regressão Linear</td>\n",
       "      <td>2795.242148</td>\n",
       "      <td>2031.977623</td>\n",
       "      <td>0.190287</td>\n",
       "      <td>0.81</td>\n",
       "    </tr>\n",
       "  </tbody>\n",
       "</table>\n",
       "</div>"
      ],
      "text/plain": [
       "              Modelo         RMSE          MAE        R2  Tempo (s)\n",
       "2            XGBoost  1836.984277  1341.958881  0.650294       4.50\n",
       "1  Árvore de Decisão  2208.959635  1596.008723  0.494329       3.16\n",
       "0   Regressão Linear  2795.242148  2031.977623  0.190287       0.81"
      ]
     },
     "metadata": {},
     "output_type": "display_data"
    }
   ],
   "source": [
    "#Código de Modelagem e Comparação\n",
    "\n",
    "\n",
    "# Features, Target e Divisão de Treino/Teste\n",
    "X = df.drop(columns=[TARGET_COLUMN])\n",
    "y = df[TARGET_COLUMN]\n",
    "#\n",
    "X_train, X_test, y_train, y_test = train_test_split(X, y, test_size=0.2, random_state=42)\n",
    "\n",
    "\n",
    "# Normalização (regressão linear)\n",
    "\n",
    "scaler = StandardScaler()\n",
    "\n",
    "X_train_scaled = scaler.fit_transform(X_train)\n",
    "\n",
    "# Apenas transforma os dados de teste (usa os parâmetros de treino)\n",
    "X_test_scaled = scaler.transform(X_test)\n",
    "\n",
    "# Converte de volta para DataFrame (para manter os nomes das colunas)\n",
    "X_train_scaled_df = pd.DataFrame(X_train_scaled, columns=X_train.columns)\n",
    "X_test_scaled_df = pd.DataFrame(X_test_scaled, columns=X_test.columns)\n",
    "\n",
    "# Definir Modelos\n",
    "models = {\n",
    "    \"Regressão Linear\": LinearRegression(),\n",
    "    \"Árvore de Decisão\": DecisionTreeRegressor(random_state=42, \n",
    "                                               max_depth=10),\n",
    "    \"XGBoost\": XGBRegressor(random_state=42, \n",
    "                            n_estimators=100, \n",
    "                            learning_rate=0.1, n_jobs=-1)\n",
    "}\n",
    "\n",
    "results = []\n",
    "best_model_name = \"\"\n",
    "best_rmse = float('inf')\n",
    "\n",
    "# Treinamento, Previsão e Avaliação\n",
    "for name, model in models.items():\n",
    "    start_time = time.time()\n",
    "    \n",
    "    if name == \"Regressão Linear\":\n",
    "        # Usa dados normalizados (scaled)\n",
    "        X_train_data = X_train_scaled_df\n",
    "        X_test_data = X_test_scaled_df\n",
    "    else:\n",
    "        # Usa dados originais (não normalizados)\n",
    "        X_train_data = X_train\n",
    "        X_test_data = X_test\n",
    "\n",
    "    # Treinamento\n",
    "    model.fit(X_train_data, y_train)\n",
    "  \n",
    "    # Previsão\n",
    "    y_pred = model.predict(X_test_data)\n",
    "    \n",
    "    # Calculo de métricas\n",
    "    rmse = mean_squared_error(y_test, y_pred, squared=False)\n",
    "    mae = mean_absolute_error(y_test, y_pred)\n",
    "    r2 = r2_score(y_test, y_pred)\n",
    "    \n",
    "    end_time = time.time()\n",
    "    \n",
    "    results.append({\n",
    "        'Modelo': name,\n",
    "        'RMSE': rmse,\n",
    "        'MAE': mae,\n",
    "        'R2': r2,\n",
    "        'Tempo (s)': round(end_time - start_time, 2)\n",
    "    })\n",
    "    \n",
    "    # Verifica melhor modelo\n",
    "    if rmse < best_rmse:\n",
    "        best_rmse = rmse\n",
    "        best_model_name = name\n",
    "        best_model = model\n",
    "\n",
    "# Converte resultados para DataFrame para visualização\n",
    "results_df = pd.DataFrame(results).sort_values(by='RMSE')\n",
    "print(\"\\n--- Tabela de Comparação de Desempenho ---\")\n",
    "display(results_df)"
   ]
  },
  {
   "cell_type": "markdown",
   "id": "016a33be",
   "metadata": {
    "papermill": {
     "duration": 0.003704,
     "end_time": "2025-10-27T15:55:38.637450",
     "exception": false,
     "start_time": "2025-10-27T15:55:38.633746",
     "status": "completed"
    },
    "tags": []
   },
   "source": [
    "---\n",
    "\n",
    "# 5. Share ~ Visualizar e Comparar Resultados\n",
    "\n",
    "Nesta fase iremos visualizar e entender as avaliações dos 3 modelos e também medir a importância de cada variável\n",
    "\n",
    "---"
   ]
  },
  {
   "cell_type": "markdown",
   "id": "56c1071d",
   "metadata": {
    "papermill": {
     "duration": 0.004471,
     "end_time": "2025-10-27T15:55:38.645608",
     "exception": false,
     "start_time": "2025-10-27T15:55:38.641137",
     "status": "completed"
    },
    "tags": []
   },
   "source": [
    "## 5.1 Avaliação dos Modelos\n",
    "\n",
    "<h3 style=\"color: #FF4500; margin-top: 0; margin-bottom: 5px;\">Resumo das Métricas de Avaliação:</h3> <br>\n",
    "\n",
    "As métricas utilizadas para avaliar o desempenho dos modelos de regressão são o RMSE, o MAE e o R².\n",
    "Enquanto RMSE e MAE medem o **erro das previsões (quanto menor, melhor)**, o R² mede o quanto o modelo explica a **variabilidade dos dados (quanto maior, melhor)**.\n",
    "\n",
    "> MAE (Erro Médio Absoluto): Representa a média do erro absoluto entre as previsões e os valores reais. Um MAE de X indica que o modelo erra, em média, X unidades da variável-alvo. É a métrica mais intuitiva para entender o erro médio.\n",
    "\n",
    "> RMSE (Raiz do Erro Quadrático Médio): Similar ao MAE, mas penaliza mais fortemente erros grandes. É considerada uma métrica mais rigorosa, pois grandes desvios impactam significativamente o resultado.\n",
    "\n",
    "> R² (Coeficiente de Determinação): Mede o quanto da variação dos valores reais é explicada pelo modelo. Seu valor varia entre 0 e 1 — quanto mais próximo de 1, melhor o ajuste. Um R² baixo indica que o modelo ainda não consegue capturar bem as relações entre as variáveis.\n",
    "\n"
   ]
  },
  {
   "cell_type": "code",
   "execution_count": 4,
   "id": "68d0b9fd",
   "metadata": {
    "execution": {
     "iopub.execute_input": "2025-10-27T15:55:38.658121Z",
     "iopub.status.busy": "2025-10-27T15:55:38.657494Z",
     "iopub.status.idle": "2025-10-27T15:55:39.152192Z",
     "shell.execute_reply": "2025-10-27T15:55:39.151255Z"
    },
    "papermill": {
     "duration": 0.502671,
     "end_time": "2025-10-27T15:55:39.154088",
     "exception": false,
     "start_time": "2025-10-27T15:55:38.651417",
     "status": "completed"
    },
    "tags": []
   },
   "outputs": [
    {
     "data": {
      "image/png": "[encoded data removed]",
      "text/plain": [
       "<Figure size 1000x500 with 1 Axes>"
      ]
     },
     "metadata": {},
     "output_type": "display_data"
    },
    {
     "data": {
      "image/png": "[encoded data removed]",
      "text/plain": [
       "<Figure size 600x500 with 1 Axes>"
      ]
     },
     "metadata": {},
     "output_type": "display_data"
    }
   ],
   "source": [
    "cores = ['#2C5F85', '#FF7F0E', '#8FBC8F']\n",
    "\n",
    "results_melted_erro = results_df.melt(id_vars='Modelo', \n",
    "                                     value_vars=['RMSE', 'MAE'],\n",
    "                                     var_name='Métrica', \n",
    "                                     value_name='Valor')\n",
    "\n",
    "plt.figure(figsize=(10, 5))\n",
    "sns.barplot(\n",
    "    x='Métrica', \n",
    "    y='Valor', \n",
    "    hue='Modelo', \n",
    "    data=results_melted_erro, \n",
    "    palette=cores \n",
    ")\n",
    "plt.title('Comparação de Erro (RMSE e MAE)', fontsize=16)\n",
    "plt.ylabel('Valor da Métrica (em Vendas)', fontsize=12)\n",
    "plt.axhline(y=0, color='red', linestyle='--', label='Erro Ideal')\n",
    "plt.legend(title='Modelo')\n",
    "plt.show()\n",
    "\n",
    "# Filtra apenas o R2\n",
    "results_r2 = results_df.melt(id_vars='Modelo', \n",
    "                            value_vars=['R2'],\n",
    "                            var_name='Métrica', \n",
    "                            value_name='Valor')\n",
    "\n",
    "plt.figure(figsize=(6, 5))\n",
    "sns.barplot(\n",
    "    x='Modelo', \n",
    "    y='Valor', \n",
    "    data=results_r2, \n",
    "    palette=cores \n",
    ")\n",
    "plt.title('Coeficiente de Determinação (R²)', fontsize=16)\n",
    "plt.ylabel('Valor de R²', fontsize=12)\n",
    "plt.axhline(y=1.0, color='gray', linestyle='--', alpha=0.7, label='R² Ideal')\n",
    "plt.axhline(y=results_r2['Valor'].max() * 0.95, color='orange', linestyle=':', alpha=0.7) # Linha de referência\n",
    "plt.ylim(0.0, 1.1) # Limita o eixo Y para visualizar melhor o 0 a 1\n",
    "plt.legend(title='Modelo')\n",
    "plt.show()"
   ]
  },
  {
   "cell_type": "markdown",
   "id": "7a8990ab",
   "metadata": {
    "papermill": {
     "duration": 0.004945,
     "end_time": "2025-10-27T15:55:39.164949",
     "exception": false,
     "start_time": "2025-10-27T15:55:39.160004",
     "status": "completed"
    },
    "tags": []
   },
   "source": [
    "---\n",
    "\n",
    "## 5.2 Importância das Variáveis\n",
    "\n",
    "<h3 style=\"color: #FF4500; margin-top: 0; margin-bottom: 5px;\">Resumo das Variáveis Impactantes:</h3> <br>\n",
    "\n",
    "Na Regressão Linear, a importância é direta e causal: o valor e o sinal do coeficiente ($\\beta$) de cada variável indicam a magnitude e a direção exata de sua influência na variável alvo (explicando como um aumento na variável X afeta Y). Já em modelos de Machine Learning mais complexos, como Árvore de Decisão e XGBoost, a importância é preditiva: ela é medida pelo Ganho ou Frequência com que a variável foi utilizada para reduzir o erro do modelo, priorizando a precisão em vez da explicabilidade. Assim, enquanto a Regressão Linear oferece uma fórmula transparente de causa e efeito, os modelos baseados em árvores fornecem um ranking do poder preditivo de cada variável."
   ]
  },
  {
   "cell_type": "code",
   "execution_count": 5,
   "id": "e2d044aa",
   "metadata": {
    "execution": {
     "iopub.execute_input": "2025-10-27T15:55:39.176685Z",
     "iopub.status.busy": "2025-10-27T15:55:39.176367Z",
     "iopub.status.idle": "2025-10-27T15:55:39.414051Z",
     "shell.execute_reply": "2025-10-27T15:55:39.413132Z"
    },
    "papermill": {
     "duration": 0.245401,
     "end_time": "2025-10-27T15:55:39.415606",
     "exception": false,
     "start_time": "2025-10-27T15:55:39.170205",
     "status": "completed"
    },
    "tags": []
   },
   "outputs": [
    {
     "name": "stdout",
     "output_type": "stream",
     "text": [
      "\n",
      "Top 10 Coeficientes (Importância) da Regressão Linear:\n"
     ]
    },
    {
     "data": {
      "text/html": [
       "<div>\n",
       "<style scoped>\n",
       "    .dataframe tbody tr th:only-of-type {\n",
       "        vertical-align: middle;\n",
       "    }\n",
       "\n",
       "    .dataframe tbody tr th {\n",
       "        vertical-align: top;\n",
       "    }\n",
       "\n",
       "    .dataframe thead th {\n",
       "        text-align: right;\n",
       "    }\n",
       "</style>\n",
       "<table border=\"1\" class=\"dataframe\">\n",
       "  <thead>\n",
       "    <tr style=\"text-align: right;\">\n",
       "      <th></th>\n",
       "      <th>Feature</th>\n",
       "      <th>Coefficient</th>\n",
       "      <th>Abs_Coefficient</th>\n",
       "      <th>Sinal</th>\n",
       "    </tr>\n",
       "  </thead>\n",
       "  <tbody>\n",
       "    <tr>\n",
       "      <th>12</th>\n",
       "      <td>Promo2SinceYear</td>\n",
       "      <td>-39159.354953</td>\n",
       "      <td>39159.354953</td>\n",
       "      <td>Negativo</td>\n",
       "    </tr>\n",
       "    <tr>\n",
       "      <th>10</th>\n",
       "      <td>Promo2</td>\n",
       "      <td>38517.119800</td>\n",
       "      <td>38517.119800</td>\n",
       "      <td>Positivo</td>\n",
       "    </tr>\n",
       "    <tr>\n",
       "      <th>2</th>\n",
       "      <td>Promo</td>\n",
       "      <td>1067.563735</td>\n",
       "      <td>1067.563735</td>\n",
       "      <td>Positivo</td>\n",
       "    </tr>\n",
       "    <tr>\n",
       "      <th>6</th>\n",
       "      <td>Assortment</td>\n",
       "      <td>410.334774</td>\n",
       "      <td>410.334774</td>\n",
       "      <td>Positivo</td>\n",
       "    </tr>\n",
       "    <tr>\n",
       "      <th>11</th>\n",
       "      <td>Promo2SinceWeek</td>\n",
       "      <td>302.181767</td>\n",
       "      <td>302.181767</td>\n",
       "      <td>Positivo</td>\n",
       "    </tr>\n",
       "    <tr>\n",
       "      <th>14</th>\n",
       "      <td>Month</td>\n",
       "      <td>249.869814</td>\n",
       "      <td>249.869814</td>\n",
       "      <td>Positivo</td>\n",
       "    </tr>\n",
       "    <tr>\n",
       "      <th>0</th>\n",
       "      <td>DayOfWeek</td>\n",
       "      <td>-234.316956</td>\n",
       "      <td>234.316956</td>\n",
       "      <td>Negativo</td>\n",
       "    </tr>\n",
       "    <tr>\n",
       "      <th>7</th>\n",
       "      <td>CompetitionDistance</td>\n",
       "      <td>-225.221349</td>\n",
       "      <td>225.221349</td>\n",
       "      <td>Negativo</td>\n",
       "    </tr>\n",
       "    <tr>\n",
       "      <th>8</th>\n",
       "      <td>CompetitionOpenSinceMonth</td>\n",
       "      <td>-193.987380</td>\n",
       "      <td>193.987380</td>\n",
       "      <td>Negativo</td>\n",
       "    </tr>\n",
       "    <tr>\n",
       "      <th>9</th>\n",
       "      <td>CompetitionOpenSinceYear</td>\n",
       "      <td>186.816258</td>\n",
       "      <td>186.816258</td>\n",
       "      <td>Positivo</td>\n",
       "    </tr>\n",
       "  </tbody>\n",
       "</table>\n",
       "</div>"
      ],
      "text/plain": [
       "                      Feature   Coefficient  Abs_Coefficient     Sinal\n",
       "12            Promo2SinceYear -39159.354953     39159.354953  Negativo\n",
       "10                     Promo2  38517.119800     38517.119800  Positivo\n",
       "2                       Promo   1067.563735      1067.563735  Positivo\n",
       "6                  Assortment    410.334774       410.334774  Positivo\n",
       "11            Promo2SinceWeek    302.181767       302.181767  Positivo\n",
       "14                      Month    249.869814       249.869814  Positivo\n",
       "0                   DayOfWeek   -234.316956       234.316956  Negativo\n",
       "7         CompetitionDistance   -225.221349       225.221349  Negativo\n",
       "8   CompetitionOpenSinceMonth   -193.987380       193.987380  Negativo\n",
       "9    CompetitionOpenSinceYear    186.816258       186.816258  Positivo"
      ]
     },
     "metadata": {},
     "output_type": "display_data"
    },
    {
     "data": {
      "image/png": "[encoded data removed]",
      "text/plain": [
       "<Figure size 800x500 with 1 Axes>"
      ]
     },
     "metadata": {},
     "output_type": "display_data"
    }
   ],
   "source": [
    "# Importância Regressão Linear\n",
    "\n",
    "\n",
    "linear_model = models[\"Regressão Linear\"]\n",
    "\n",
    "# Coeficientes\n",
    "coefficients = linear_model.coef_\n",
    "features = X_train.columns\n",
    "\n",
    "# DataFrame com coeficientes e magnitude absoluta\n",
    "importance_df_lr = pd.DataFrame({\n",
    "    \"Feature\": features,\n",
    "    \"Coefficient\": coefficients,\n",
    "    \"Abs_Coefficient\": np.abs(coefficients),\n",
    "    \"Sinal\": np.where(coefficients >= 0, \"Positivo\", \"Negativo\")\n",
    "}).sort_values(by=\"Abs_Coefficient\", ascending=False)\n",
    "\n",
    "print(\"\\nTop 10 Coeficientes (Importância) da Regressão Linear:\")\n",
    "display(importance_df_lr.head(10))\n",
    "\n",
    "top10 = importance_df_lr.head(10).iloc[::-1]\n",
    "\n",
    "# Vermelho para Negativo e Azul para Positivo\n",
    "colors = [\"#1f77b4\" if s == \"Positivo\" else \"#d62728\" for s in top10[\"Sinal\"]]\n",
    "\n",
    "plt.figure(figsize=(8,5))\n",
    "plt.barh(top10[\"Feature\"], top10[\"Abs_Coefficient\"], color=colors)\n",
    "plt.title(\"Top 10 Variáveis mais Influentes - Regressão Linear\", fontsize=12, pad=10)\n",
    "plt.xlabel(\"Magnitude do Coeficiente\", fontsize=10)\n",
    "plt.ylabel(\"Variável\", fontsize=10)\n",
    "plt.grid(axis=\"x\", linestyle=\"--\", alpha=0.6)\n",
    "plt.tight_layout()\n",
    "plt.show()\n"
   ]
  },
  {
   "cell_type": "code",
   "execution_count": 6,
   "id": "45ae2755",
   "metadata": {
    "execution": {
     "iopub.execute_input": "2025-10-27T15:55:39.430699Z",
     "iopub.status.busy": "2025-10-27T15:55:39.429869Z",
     "iopub.status.idle": "2025-10-27T15:55:39.637912Z",
     "shell.execute_reply": "2025-10-27T15:55:39.636850Z"
    },
    "papermill": {
     "duration": 0.217156,
     "end_time": "2025-10-27T15:55:39.639743",
     "exception": false,
     "start_time": "2025-10-27T15:55:39.422587",
     "status": "completed"
    },
    "tags": []
   },
   "outputs": [
    {
     "data": {
      "image/png": "[encoded data removed]",
      "text/plain": [
       "<Figure size 1000x600 with 1 Axes>"
      ]
     },
     "metadata": {},
     "output_type": "display_data"
    }
   ],
   "source": [
    "# Importância Árvore de Decisão e XGBoost.\n",
    "if best_model_name != \"Regressão Linear\":\n",
    "    \n",
    "    importances = best_model.feature_importances_\n",
    "    features = X_train.columns\n",
    "    \n",
    "    # Cria DataFrame para ordenação\n",
    "    importance_df = pd.DataFrame({\n",
    "        'Feature': features,\n",
    "        'Importance': importances\n",
    "    }).sort_values(by='Importance', ascending=False).head(10)\n",
    "\n",
    "    # Visualização\n",
    "    plt.figure(figsize=(10, 6))\n",
    "    sns.barplot(x='Importance', y='Feature', data=importance_df, palette=\"viridis\")\n",
    "    plt.title(f'Top 10 Variáveis mais Impactantes ({best_model_name})')\n",
    "    plt.show()"
   ]
  },
  {
   "cell_type": "markdown",
   "id": "15db6001",
   "metadata": {
    "papermill": {
     "duration": 0.008951,
     "end_time": "2025-10-27T15:55:39.659913",
     "exception": false,
     "start_time": "2025-10-27T15:55:39.650962",
     "status": "completed"
    },
    "tags": []
   },
   "source": [
    "---\n",
    "\n",
    "# 6. Act ~ Conclusão e Insights para o Varejo\n",
    "\n",
    "Esta fase consolida os resultados da modelagem para responder às perguntas centrais do negócio.\n",
    "\n",
    "## 6.1 Qual Modelo Apresentou a Menor Margem de Erro?\n",
    "\n",
    "Conforme a **Tabela de Comparação de Desempenho**, o modelo que demonstrou a maior eficiência e a menor margem de erro foi o **XGBoost**.\n",
    "\n",
    "### Tabela de Comparação de Desempenho (Previsão de Vendas)\n",
    "\n",
    "| Métrica | Modelo | Valor | Status | Observação |\n",
    "| :--- | :--- | :--- | :--- | :--- |\n",
    "| **RMSE** (Erro Quadrático) | **XGBoost** | **1836.98** | **Melhor** | Menor erro, penaliza menos os erros grandes. |\n",
    "| | Árvore de Decisão | 2208.96 | Bom | Diferença significativa para o XGBoost. |\n",
    "| | Regressão Linear | 2795.24 | Pior | Maior erro em todas as métricas. |\n",
    "| **MAE** (Erro Absoluto) | **XGBoost** | **1341.96** | **Melhor** | O erro médio real das previsões é o menor. |\n",
    "| | Árvore de Decisão | 1596.01 | Bom | Erro médio aceitável. |\n",
    "| | Regressão Linear | 2031.98 | Pior | Erro médio mais alto. |\n",
    "| **$R^2$** (Variância Explicada) | **XGBoost** | **0.650** | **Melhor** | O modelo explica 65% da variação nas Vendas. |\n",
    "| | Árvore de Decisão | 0.494 | Bom | Explica quase 50% da variação. |\n",
    "| | Regressão Linear | 0.190 | Pior | Explica apenas 19% da variação (Confirma fraco desempenho). |\n",
    "\n",
    "\n",
    "* **Modelo Vencedor:** XGBoost\n",
    "* **Performance:** Obteve o menor **RMSE** (Erro Quadrático Médio) e o maior **R²** (Coeficiente de Determinação).\n",
    "    * *O XGBoost é ideal para dados de varejo por sua capacidade de capturar relações complexas e não-lineares, superando a simplicidade da Regressão Linear.*\n",
    "\n",
    "## 6.2 Quais Variáveis Tiveram Maior Impacto nas Previsões?\n",
    "\n",
    "* Promoção 1 **(Promo)**: Lidera no XGBoost e tem impacto considerável na Regressão Linear.\n",
    "\n",
    "* **Promoção Contínua 2 (Promo2)** e seu Fator Tempo **(Promo2SinceYear)**: Dominam o ranking da Regressão Linear e são muito relevantes no XGBoost.\n",
    "\n",
    "O XGBoost (que teve o melhor desempenho geral) sugere que a Promoção Semanal (Promo) é o fator preditivo mais importante. Já a Regressão Linear atribui o maior peso à Promoção Contínua (Promo2) e ao tempo em que ela está ativa (Promo2SinceYear).\n"
   ]
  }
 ],
 "metadata": {
  "kaggle": {
   "accelerator": "none",
   "dataSources": [
    {
     "datasetId": 109852,
     "sourceId": 262482,
     "sourceType": "datasetVersion"
    }
   ],
   "dockerImageVersionId": 31153,
   "isGpuEnabled": false,
   "isInternetEnabled": true,
   "language": "python",
   "sourceType": "notebook"
  },
  "kernelspec": {
   "display_name": "Python 3",
   "language": "python",
   "name": "python3"
  },
  "language_info": {
   "codemirror_mode": {
    "name": "ipython",
    "version": 3
   },
   "file_extension": ".py",
   "mimetype": "text/x-python",
   "name": "python",
   "nbconvert_exporter": "python",
   "pygments_lexer": "ipython3",
   "version": "3.11.13"
  },
  "papermill": {
   "default_parameters": {},
   "duration": 24.914155,
   "end_time": "2025-10-27T15:55:40.389644",
   "environment_variables": {},
   "exception": null,
   "input_path": "__notebook__.ipynb",
   "output_path": "__notebook__.ipynb",
   "parameters": {},
   "start_time": "2025-10-27T15:55:15.475489",
   "version": "2.6.0"
  }
 },
 "nbformat": 4,
 "nbformat_minor": 5
}
