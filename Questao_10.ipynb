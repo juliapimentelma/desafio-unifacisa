{
 "cells": [
  {
   "cell_type": "markdown",
   "id": "7fc03830",
   "metadata": {
    "papermill": {
     "duration": 0.004505,
     "end_time": "2025-10-27T04:26:24.771705",
     "exception": false,
     "start_time": "2025-10-27T04:26:24.767200",
     "status": "completed"
    },
    "tags": []
   },
   "source": [
    "<h1 style=\"text-align: center; color: blue;\">\n",
    "ADS ~ UNIFACISA <br>\n",
    "Projeto Integrador IA\n",
    "</h1>\n",
    "\n",
    "#### Autor : Tawan Barbosa da Silva\n",
    "#### Desafio Unifacisa ~ Questão 10\n",
    "\n",
    "\n",
    "---\n",
    "\n",
    "> # <center>Previsão de Vendas Mensais em Rede de Varejo 📊 </center>\n",
    "\n",
    "---"
   ]
  },
  {
   "cell_type": "markdown",
   "id": "8abbd079",
   "metadata": {
    "papermill": {
     "duration": 0.003632,
     "end_time": "2025-10-27T04:26:24.779203",
     "exception": false,
     "start_time": "2025-10-27T04:26:24.775571",
     "status": "completed"
    },
    "tags": []
   },
   "source": [
    "# 1. Ask ~ Pergunta Principal\n",
    "\n",
    "---\n",
    "\n",
    "## Pergunta Principal\n",
    "\n",
    "><i> **Com base em variáveis operacionais e promocionais (publicidade, funcionários, sazonalidade), qual é o modelo de Machine Learning mais preciso para prever as vendas mensais, garantindo a menor margem de erro?\"**\n",
    "</i>\n",
    "\n",
    "\n",
    "## Objetivo do Projeto\n",
    "\n",
    "\n",
    "><i> O objetivo técnico é construir, treinar e comparar múltiplos modelos de regressão para previsão de vendas, focando em:\n",
    "</i>\n",
    "\n",
    "* Minimizar o Erro: Atingir o menor valor de RMSE e MAE no conjunto de testes.\n",
    "* Maximizar o Ajuste: Obter o maior valor de $R^2$ (Coeficiente de Determinação).\n",
    "* Identificar Fatores Chave: Realizar a Análise de Importância de Variáveis para determinar quais fatores (publicidade, promoções, etc.) são mais impactantes nas vendas.\n",
    "\n",
    "\n",
    "---"
   ]
  },
  {
   "cell_type": "markdown",
   "id": "a519cb57",
   "metadata": {
    "papermill": {
     "duration": 0.00374,
     "end_time": "2025-10-27T04:26:24.786597",
     "exception": false,
     "start_time": "2025-10-27T04:26:24.782857",
     "status": "completed"
    },
    "tags": []
   },
   "source": [
    "# 2. Prepare ~ Coleta e Entendimento dos Dados\n",
    "---\n",
    "><i> **Usaremos o dataset Rossmann Store Sales (Kaggle)**\n",
    "\n",
    "\n",
    "<h3 style=\"color: #FF4500; margin-top: 0; margin-bottom: 5px;\">Principais Arquivos:</h3> <br>\n",
    "\n",
    "store.csv — Informações fixas sobre cada loja (StoreType, Assortment, CompetitionDistance, Promo2, etc.)\n",
    "\n",
    "train.csv — Vendas históricas diárias (Date, Store, Sales, Customers, Promo, SchoolHoliday, etc.)"
   ]
  },
  {
   "cell_type": "code",
   "execution_count": 1,
   "id": "fc0cbd0e",
   "metadata": {
    "execution": {
     "iopub.execute_input": "2025-10-27T04:26:24.795096Z",
     "iopub.status.busy": "2025-10-27T04:26:24.794700Z",
     "iopub.status.idle": "2025-10-27T04:26:31.012445Z",
     "shell.execute_reply": "2025-10-27T04:26:31.011266Z"
    },
    "papermill": {
     "duration": 6.223813,
     "end_time": "2025-10-27T04:26:31.013927",
     "exception": false,
     "start_time": "2025-10-27T04:26:24.790114",
     "status": "completed"
    },
    "tags": []
   },
   "outputs": [
    {
     "name": "stdout",
     "output_type": "stream",
     "text": [
      "--- Inspeção Inicial ---\n",
      "Shape do Treino (Vendas): (1017209, 9)\n",
      "Shape da Store (Características das Lojas): (1115, 10)\n",
      "\n",
      "Shape Final Após Junção e Remoção de Vendas Zeradas: (844338, 18)\n"
     ]
    },
    {
     "name": "stderr",
     "output_type": "stream",
     "text": [
      "/usr/local/lib/python3.11/dist-packages/pandas/io/formats/format.py:1458: RuntimeWarning: invalid value encountered in greater\n",
      "  has_large_values = (abs_vals > 1e6).any()\n",
      "/usr/local/lib/python3.11/dist-packages/pandas/io/formats/format.py:1459: RuntimeWarning: invalid value encountered in less\n",
      "  has_small_values = ((abs_vals < 10 ** (-self.digits)) & (abs_vals > 0)).any()\n",
      "/usr/local/lib/python3.11/dist-packages/pandas/io/formats/format.py:1459: RuntimeWarning: invalid value encountered in greater\n",
      "  has_small_values = ((abs_vals < 10 ** (-self.digits)) & (abs_vals > 0)).any()\n"
     ]
    },
    {
     "data": {
      "text/html": [
       "<div>\n",
       "<style scoped>\n",
       "    .dataframe tbody tr th:only-of-type {\n",
       "        vertical-align: middle;\n",
       "    }\n",
       "\n",
       "    .dataframe tbody tr th {\n",
       "        vertical-align: top;\n",
       "    }\n",
       "\n",
       "    .dataframe thead th {\n",
       "        text-align: right;\n",
       "    }\n",
       "</style>\n",
       "<table border=\"1\" class=\"dataframe\">\n",
       "  <thead>\n",
       "    <tr style=\"text-align: right;\">\n",
       "      <th></th>\n",
       "      <th>Store</th>\n",
       "      <th>DayOfWeek</th>\n",
       "      <th>Date</th>\n",
       "      <th>Sales</th>\n",
       "      <th>Customers</th>\n",
       "      <th>Open</th>\n",
       "      <th>Promo</th>\n",
       "      <th>StateHoliday</th>\n",
       "      <th>SchoolHoliday</th>\n",
       "      <th>StoreType</th>\n",
       "      <th>Assortment</th>\n",
       "      <th>CompetitionDistance</th>\n",
       "      <th>CompetitionOpenSinceMonth</th>\n",
       "      <th>CompetitionOpenSinceYear</th>\n",
       "      <th>Promo2</th>\n",
       "      <th>Promo2SinceWeek</th>\n",
       "      <th>Promo2SinceYear</th>\n",
       "      <th>PromoInterval</th>\n",
       "    </tr>\n",
       "  </thead>\n",
       "  <tbody>\n",
       "    <tr>\n",
       "      <th>0</th>\n",
       "      <td>1</td>\n",
       "      <td>5</td>\n",
       "      <td>2015-07-31</td>\n",
       "      <td>5263</td>\n",
       "      <td>555</td>\n",
       "      <td>1</td>\n",
       "      <td>1</td>\n",
       "      <td>0</td>\n",
       "      <td>1</td>\n",
       "      <td>c</td>\n",
       "      <td>a</td>\n",
       "      <td>1270.0</td>\n",
       "      <td>9.0</td>\n",
       "      <td>2008.0</td>\n",
       "      <td>0</td>\n",
       "      <td>NaN</td>\n",
       "      <td>NaN</td>\n",
       "      <td>NaN</td>\n",
       "    </tr>\n",
       "    <tr>\n",
       "      <th>1</th>\n",
       "      <td>2</td>\n",
       "      <td>5</td>\n",
       "      <td>2015-07-31</td>\n",
       "      <td>6064</td>\n",
       "      <td>625</td>\n",
       "      <td>1</td>\n",
       "      <td>1</td>\n",
       "      <td>0</td>\n",
       "      <td>1</td>\n",
       "      <td>a</td>\n",
       "      <td>a</td>\n",
       "      <td>570.0</td>\n",
       "      <td>11.0</td>\n",
       "      <td>2007.0</td>\n",
       "      <td>1</td>\n",
       "      <td>13.0</td>\n",
       "      <td>2010.0</td>\n",
       "      <td>Jan,Apr,Jul,Oct</td>\n",
       "    </tr>\n",
       "    <tr>\n",
       "      <th>2</th>\n",
       "      <td>3</td>\n",
       "      <td>5</td>\n",
       "      <td>2015-07-31</td>\n",
       "      <td>8314</td>\n",
       "      <td>821</td>\n",
       "      <td>1</td>\n",
       "      <td>1</td>\n",
       "      <td>0</td>\n",
       "      <td>1</td>\n",
       "      <td>a</td>\n",
       "      <td>a</td>\n",
       "      <td>14130.0</td>\n",
       "      <td>12.0</td>\n",
       "      <td>2006.0</td>\n",
       "      <td>1</td>\n",
       "      <td>14.0</td>\n",
       "      <td>2011.0</td>\n",
       "      <td>Jan,Apr,Jul,Oct</td>\n",
       "    </tr>\n",
       "    <tr>\n",
       "      <th>3</th>\n",
       "      <td>4</td>\n",
       "      <td>5</td>\n",
       "      <td>2015-07-31</td>\n",
       "      <td>13995</td>\n",
       "      <td>1498</td>\n",
       "      <td>1</td>\n",
       "      <td>1</td>\n",
       "      <td>0</td>\n",
       "      <td>1</td>\n",
       "      <td>c</td>\n",
       "      <td>c</td>\n",
       "      <td>620.0</td>\n",
       "      <td>9.0</td>\n",
       "      <td>2009.0</td>\n",
       "      <td>0</td>\n",
       "      <td>NaN</td>\n",
       "      <td>NaN</td>\n",
       "      <td>NaN</td>\n",
       "    </tr>\n",
       "    <tr>\n",
       "      <th>4</th>\n",
       "      <td>5</td>\n",
       "      <td>5</td>\n",
       "      <td>2015-07-31</td>\n",
       "      <td>4822</td>\n",
       "      <td>559</td>\n",
       "      <td>1</td>\n",
       "      <td>1</td>\n",
       "      <td>0</td>\n",
       "      <td>1</td>\n",
       "      <td>a</td>\n",
       "      <td>a</td>\n",
       "      <td>29910.0</td>\n",
       "      <td>4.0</td>\n",
       "      <td>2015.0</td>\n",
       "      <td>0</td>\n",
       "      <td>NaN</td>\n",
       "      <td>NaN</td>\n",
       "      <td>NaN</td>\n",
       "    </tr>\n",
       "  </tbody>\n",
       "</table>\n",
       "</div>"
      ],
      "text/plain": [
       "   Store  DayOfWeek        Date  Sales  Customers  Open  Promo StateHoliday  \\\n",
       "0      1          5  2015-07-31   5263        555     1      1            0   \n",
       "1      2          5  2015-07-31   6064        625     1      1            0   \n",
       "2      3          5  2015-07-31   8314        821     1      1            0   \n",
       "3      4          5  2015-07-31  13995       1498     1      1            0   \n",
       "4      5          5  2015-07-31   4822        559     1      1            0   \n",
       "\n",
       "   SchoolHoliday StoreType Assortment  CompetitionDistance  \\\n",
       "0              1         c          a               1270.0   \n",
       "1              1         a          a                570.0   \n",
       "2              1         a          a              14130.0   \n",
       "3              1         c          c                620.0   \n",
       "4              1         a          a              29910.0   \n",
       "\n",
       "   CompetitionOpenSinceMonth  CompetitionOpenSinceYear  Promo2  \\\n",
       "0                        9.0                    2008.0       0   \n",
       "1                       11.0                    2007.0       1   \n",
       "2                       12.0                    2006.0       1   \n",
       "3                        9.0                    2009.0       0   \n",
       "4                        4.0                    2015.0       0   \n",
       "\n",
       "   Promo2SinceWeek  Promo2SinceYear    PromoInterval  \n",
       "0              NaN              NaN              NaN  \n",
       "1             13.0           2010.0  Jan,Apr,Jul,Oct  \n",
       "2             14.0           2011.0  Jan,Apr,Jul,Oct  \n",
       "3              NaN              NaN              NaN  \n",
       "4              NaN              NaN              NaN  "
      ]
     },
     "metadata": {},
     "output_type": "display_data"
    }
   ],
   "source": [
    "# Bibliotecas\n",
    "import pandas as pd\n",
    "import numpy as np\n",
    "import matplotlib.pyplot as plt\n",
    "import seaborn as sns\n",
    "from pathlib import Path\n",
    "\n",
    "from sklearn.preprocessing import StandardScaler\n",
    "from sklearn.model_selection import train_test_split\n",
    "from sklearn.linear_model import LinearRegression\n",
    "from sklearn.tree import DecisionTreeRegressor\n",
    "from xgboost import XGBRegressor\n",
    "from sklearn.metrics import mean_squared_error, mean_absolute_error, r2_score\n",
    "import time\n",
    "\n",
    "# Caminho do Dataset e Load dos Dados\n",
    "path = Path('/kaggle/input/rossmann-store-sales')\n",
    "\n",
    "store = pd.read_csv(path / 'store.csv')\n",
    "train = pd.read_csv(path / 'train.csv', low_memory=False)\n",
    "\n",
    "# 1. Inspeção Inicial\n",
    "print(\"--- Inspeção Inicial ---\")\n",
    "print(f\"Shape do Treino (Vendas): {train.shape}\")\n",
    "print(f\"Shape da Store (Características das Lojas): {store.shape}\")\n",
    "\n",
    "# Merge dos Dados\n",
    "df = train.merge(store, on='Store', how='left')\n",
    "\n",
    "# Limpeza de Dados (Remoção de Vendas Zeradas)\n",
    "df = df[df['Sales'] > 0]\n",
    "\n",
    "print(f\"\\nShape Final Após Junção e Remoção de Vendas Zeradas: {df.shape}\")\n",
    "display(df.head())"
   ]
  },
  {
   "cell_type": "markdown",
   "id": "e812a33a",
   "metadata": {
    "papermill": {
     "duration": 0.004212,
     "end_time": "2025-10-27T04:26:31.022398",
     "exception": false,
     "start_time": "2025-10-27T04:26:31.018186",
     "status": "completed"
    },
    "tags": []
   },
   "source": [
    "---\n",
    "# 3. Process ~ Feature Engineering e Pré-processamento\n",
    "Esta fase realiza um tratamento e transforma os dados brutos em um formato que os modelos podem entender.\n",
    "\n",
    "---\n",
    "\n",
    "<h3 style=\"color: #FF4500; margin-top: 0; margin-bottom: 5px;\">Tarefas:</h3> <br>\n",
    "\n",
    "* Engenharia de Variáveis de Tempo: Desdobramento da data (Date) em variáveis de sazonalidade (Year, Month, WeekOfYear) para capturar o impacto do tempo nas vendas.\n",
    "\n",
    "* Tratamento de Ausentes e Conversão: Preenchimento de valores faltantes (NaN) e conversão das características de loja (StoreType, Assortment) de texto para formato numérico (codificação).\n",
    "\n",
    "* Limpeza Final de Dados: Remoção de colunas textuais redundantes (Date, PromoInterval) e seleção das variáveis preditivas para a regressão."
   ]
  },
  {
   "cell_type": "code",
   "execution_count": 2,
   "id": "5931157c",
   "metadata": {
    "execution": {
     "iopub.execute_input": "2025-10-27T04:26:31.031993Z",
     "iopub.status.busy": "2025-10-27T04:26:31.031352Z",
     "iopub.status.idle": "2025-10-27T04:26:31.920329Z",
     "shell.execute_reply": "2025-10-27T04:26:31.918999Z"
    },
    "papermill": {
     "duration": 0.895501,
     "end_time": "2025-10-27T04:26:31.921795",
     "exception": false,
     "start_time": "2025-10-27T04:26:31.026294",
     "status": "completed"
    },
    "tags": []
   },
   "outputs": [
    {
     "name": "stdout",
     "output_type": "stream",
     "text": [
      "Colunas finais para modelagem: ['DayOfWeek', 'Sales', 'Open', 'Promo', 'StateHoliday', 'SchoolHoliday', 'StoreType', 'Assortment', 'CompetitionDistance', 'CompetitionOpenSinceMonth', 'CompetitionOpenSinceYear', 'Promo2', 'Promo2SinceWeek', 'Promo2SinceYear', 'Year', 'Month', 'Day', 'WeekOfYear']\n"
     ]
    },
    {
     "name": "stderr",
     "output_type": "stream",
     "text": [
      "/tmp/ipykernel_13/2074738312.py:28: FutureWarning: Downcasting behavior in `replace` is deprecated and will be removed in a future version. To retain the old behavior, explicitly call `result.infer_objects(copy=False)`. To opt-in to the future behavior, set `pd.set_option('future.no_silent_downcasting', True)`\n",
      "  df['StateHoliday'] = df['StateHoliday'].replace(state_holiday_mapping).astype(int)\n"
     ]
    }
   ],
   "source": [
    "# Tratamento de Datas (Feature Engineering)\n",
    "# A coluna 'Date' é convertida e decomposta para capturar a sazonalidade\n",
    "\n",
    "df['Date'] = pd.to_datetime(df['Date'])\n",
    "df['Year'] = df['Date'].dt.year\n",
    "df['Month'] = df['Date'].dt.month\n",
    "df['Day'] = df['Date'].dt.day\n",
    "df['WeekOfYear'] = df['Date'].dt.isocalendar().week.astype(int) # Sazonalidade semanal/mensal\n",
    "\n",
    "\n",
    "# Tratamento de variaveis ausentes (NaN)\n",
    "# A tabela 'store' possui alguns valores ausentes que precisam ser preenchidos:\n",
    "df['CompetitionDistance'] = df['CompetitionDistance'].fillna(df['CompetitionDistance'].median())\n",
    "df['CompetitionOpenSinceMonth'] = df['CompetitionOpenSinceMonth'].fillna(0)\n",
    "df['CompetitionOpenSinceYear'] = df['CompetitionOpenSinceYear'].fillna(0)\n",
    "df['Promo2SinceWeek'] = df['Promo2SinceWeek'].fillna(0)\n",
    "df['Promo2SinceYear'] = df['Promo2SinceYear'].fillna(0)\n",
    "\n",
    "# Tratamento de variaveis categoricas e nominais\n",
    "\n",
    "store_type_mapping = {'a': 1, 'b': 2, 'c': 3, 'd': 4}\n",
    "df['StoreType'] = df['StoreType'].map(store_type_mapping)\n",
    "\n",
    "assortment_mapping = {'a': 1, 'b': 2, 'c': 3}\n",
    "df['Assortment'] = df['Assortment'].map(assortment_mapping)\n",
    "\n",
    "state_holiday_mapping = {'0': 0, 'a': 1, 'b': 2, 'c': 3}\n",
    "df['StateHoliday'] = df['StateHoliday'].replace(state_holiday_mapping).astype(int)\n",
    "\n",
    "# Dropar colunas que não são mais necessárias ou são textuais\n",
    "df = df.drop(columns=['Date', 'Customers', 'Store', 'PromoInterval']) \n",
    "\n",
    "print(f\"Colunas finais para modelagem: {df.columns.tolist()}\")\n",
    "\n",
    "# O valor alvo (target) será a coluna 'Sales'\n",
    "TARGET_COLUMN = 'Sales'"
   ]
  },
  {
   "cell_type": "markdown",
   "id": "2e78d7f1",
   "metadata": {
    "papermill": {
     "duration": 0.003978,
     "end_time": "2025-10-27T04:26:31.930011",
     "exception": false,
     "start_time": "2025-10-27T04:26:31.926033",
     "status": "completed"
    },
    "tags": []
   },
   "source": [
    "---\n",
    "# 4. Analyze ~ Modelagem e Primeira Comparação\n",
    "\n",
    ">  Nesta fase, construiremos os modelos, treinaremos e compararemos o desempenho."
   ]
  },
  {
   "cell_type": "code",
   "execution_count": 3,
   "id": "afe6e423",
   "metadata": {
    "execution": {
     "iopub.execute_input": "2025-10-27T04:26:31.940320Z",
     "iopub.status.busy": "2025-10-27T04:26:31.939922Z",
     "iopub.status.idle": "2025-10-27T04:26:40.682137Z",
     "shell.execute_reply": "2025-10-27T04:26:40.680876Z"
    },
    "papermill": {
     "duration": 8.749593,
     "end_time": "2025-10-27T04:26:40.683937",
     "exception": false,
     "start_time": "2025-10-27T04:26:31.934344",
     "status": "completed"
    },
    "tags": []
   },
   "outputs": [
    {
     "name": "stdout",
     "output_type": "stream",
     "text": [
      "\n",
      "--- Tabela de Comparação de Desempenho ---\n"
     ]
    },
    {
     "data": {
      "text/html": [
       "<div>\n",
       "<style scoped>\n",
       "    .dataframe tbody tr th:only-of-type {\n",
       "        vertical-align: middle;\n",
       "    }\n",
       "\n",
       "    .dataframe tbody tr th {\n",
       "        vertical-align: top;\n",
       "    }\n",
       "\n",
       "    .dataframe thead th {\n",
       "        text-align: right;\n",
       "    }\n",
       "</style>\n",
       "<table border=\"1\" class=\"dataframe\">\n",
       "  <thead>\n",
       "    <tr style=\"text-align: right;\">\n",
       "      <th></th>\n",
       "      <th>Modelo</th>\n",
       "      <th>RMSE</th>\n",
       "      <th>MAE</th>\n",
       "      <th>R2</th>\n",
       "      <th>Tempo (s)</th>\n",
       "    </tr>\n",
       "  </thead>\n",
       "  <tbody>\n",
       "    <tr>\n",
       "      <th>2</th>\n",
       "      <td>XGBoost</td>\n",
       "      <td>1836.984277</td>\n",
       "      <td>1341.958881</td>\n",
       "      <td>0.650294</td>\n",
       "      <td>3.86</td>\n",
       "    </tr>\n",
       "    <tr>\n",
       "      <th>1</th>\n",
       "      <td>Árvore de Decisão</td>\n",
       "      <td>2208.959635</td>\n",
       "      <td>1596.008723</td>\n",
       "      <td>0.494329</td>\n",
       "      <td>3.49</td>\n",
       "    </tr>\n",
       "    <tr>\n",
       "      <th>0</th>\n",
       "      <td>Regressão Linear</td>\n",
       "      <td>2795.242148</td>\n",
       "      <td>2031.977623</td>\n",
       "      <td>0.190287</td>\n",
       "      <td>0.77</td>\n",
       "    </tr>\n",
       "  </tbody>\n",
       "</table>\n",
       "</div>"
      ],
      "text/plain": [
       "              Modelo         RMSE          MAE        R2  Tempo (s)\n",
       "2            XGBoost  1836.984277  1341.958881  0.650294       3.86\n",
       "1  Árvore de Decisão  2208.959635  1596.008723  0.494329       3.49\n",
       "0   Regressão Linear  2795.242148  2031.977623  0.190287       0.77"
      ]
     },
     "metadata": {},
     "output_type": "display_data"
    }
   ],
   "source": [
    "#Código de Modelagem e Comparação\n",
    "\n",
    "\n",
    "# Features, Target e Divisão de Treino/Teste\n",
    "X = df.drop(columns=[TARGET_COLUMN])\n",
    "y = df[TARGET_COLUMN]\n",
    "\n",
    "X_train, X_test, y_train, y_test = train_test_split(X, y, test_size=0.2, random_state=42)\n",
    "\n",
    "\n",
    "# Normalização (regressão linear)\n",
    "\n",
    "scaler = StandardScaler()\n",
    "\n",
    "X_train_scaled = scaler.fit_transform(X_train)\n",
    "\n",
    "# Apenas transforma os dados de teste (usa os parâmetros de treino)\n",
    "X_test_scaled = scaler.transform(X_test)\n",
    "\n",
    "# Converte de volta para DataFrame (para manter os nomes das colunas)\n",
    "X_train_scaled_df = pd.DataFrame(X_train_scaled, columns=X_train.columns)\n",
    "X_test_scaled_df = pd.DataFrame(X_test_scaled, columns=X_test.columns)\n",
    "\n",
    "# Definir Modelos\n",
    "models = {\n",
    "    \"Regressão Linear\": LinearRegression(),\n",
    "    \"Árvore de Decisão\": DecisionTreeRegressor(random_state=42, max_depth=10),\n",
    "    \"XGBoost\": XGBRegressor(random_state=42, n_estimators=100, learning_rate=0.1, n_jobs=-1)\n",
    "}\n",
    "\n",
    "results = []\n",
    "best_model_name = \"\"\n",
    "best_rmse = float('inf')\n",
    "\n",
    "# Treinamento, Previsão e Avaliação\n",
    "for name, model in models.items():\n",
    "    start_time = time.time()\n",
    "    \n",
    "    if name == \"Regressão Linear\":\n",
    "        # Usa dados normalizados (scaled)\n",
    "        X_train_data = X_train_scaled_df\n",
    "        X_test_data = X_test_scaled_df\n",
    "    else:\n",
    "        # Usa dados originais (não normalizados - para modelos de árvore)\n",
    "        X_train_data = X_train\n",
    "        X_test_data = X_test\n",
    "\n",
    "    # Treinamento\n",
    "    model.fit(X_train_data, y_train)\n",
    "  \n",
    "    # Previsão\n",
    "    y_pred = model.predict(X_test_data)\n",
    "    \n",
    "    # Calculo de métricas\n",
    "    rmse = mean_squared_error(y_test, y_pred, squared=False)\n",
    "    mae = mean_absolute_error(y_test, y_pred)\n",
    "    r2 = r2_score(y_test, y_pred)\n",
    "    \n",
    "    end_time = time.time()\n",
    "    \n",
    "    results.append({\n",
    "        'Modelo': name,\n",
    "        'RMSE': rmse,\n",
    "        'MAE': mae,\n",
    "        'R2': r2,\n",
    "        'Tempo (s)': round(end_time - start_time, 2)\n",
    "    })\n",
    "    \n",
    "    # Verifica melhor modelo\n",
    "    if rmse < best_rmse:\n",
    "        best_rmse = rmse\n",
    "        best_model_name = name\n",
    "        best_model = model\n",
    "\n",
    "# Converte resultados para DataFrame para visualização\n",
    "results_df = pd.DataFrame(results).sort_values(by='RMSE')\n",
    "print(\"\\n--- Tabela de Comparação de Desempenho ---\")\n",
    "display(results_df)"
   ]
  },
  {
   "cell_type": "markdown",
   "id": "bd04b7e4",
   "metadata": {
    "papermill": {
     "duration": 0.004039,
     "end_time": "2025-10-27T04:26:40.692595",
     "exception": false,
     "start_time": "2025-10-27T04:26:40.688556",
     "status": "completed"
    },
    "tags": []
   },
   "source": [
    "---\n",
    "\n",
    "# 5. Share ~ Visualizar e Comparar Resultados\n",
    "\n",
    "Nesta fase iremos visualizar e entender as avaliações dos 3 modelos e também medir a importância de cada variável\n",
    "\n",
    "---"
   ]
  },
  {
   "cell_type": "markdown",
   "id": "d29992bc",
   "metadata": {
    "papermill": {
     "duration": 0.003931,
     "end_time": "2025-10-27T04:26:40.700832",
     "exception": false,
     "start_time": "2025-10-27T04:26:40.696901",
     "status": "completed"
    },
    "tags": []
   },
   "source": [
    "## 5.1 Avaliação dos Modelos\n",
    "\n",
    "<h3 style=\"color: #FF4500; margin-top: 0; margin-bottom: 5px;\">Resumo das Métricas de Avaliação:</h3> <br>\n",
    "\n",
    "As métricas utilizadas para avaliar o desempenho dos modelos de regressão são o RMSE, o MAE e o R².\n",
    "Enquanto RMSE e MAE medem o **erro das previsões (quanto menor, melhor)**, o R² mede o quanto o modelo explica a **variabilidade dos dados (quanto maior, melhor)**.\n",
    "\n",
    "> MAE (Erro Médio Absoluto): Representa a média do erro absoluto entre as previsões e os valores reais. Um MAE de X indica que o modelo erra, em média, X unidades da variável-alvo. É a métrica mais intuitiva para entender o erro médio.\n",
    "\n",
    "> RMSE (Raiz do Erro Quadrático Médio): Similar ao MAE, mas penaliza mais fortemente erros grandes. É considerada uma métrica mais rigorosa, pois grandes desvios impactam significativamente o resultado.\n",
    "\n",
    "> R² (Coeficiente de Determinação): Mede o quanto da variação dos valores reais é explicada pelo modelo. Seu valor varia entre 0 e 1 — quanto mais próximo de 1, melhor o ajuste. Um R² baixo indica que o modelo ainda não consegue capturar bem as relações entre as variáveis.\n",
    "\n"
   ]
  },
  {
   "cell_type": "code",
   "execution_count": 4,
   "id": "4d9a03e5",
   "metadata": {
    "execution": {
     "iopub.execute_input": "2025-10-27T04:26:40.711465Z",
     "iopub.status.busy": "2025-10-27T04:26:40.710285Z",
     "iopub.status.idle": "2025-10-27T04:26:41.220441Z",
     "shell.execute_reply": "2025-10-27T04:26:41.219336Z"
    },
    "papermill": {
     "duration": 0.517083,
     "end_time": "2025-10-27T04:26:41.222109",
     "exception": false,
     "start_time": "2025-10-27T04:26:40.705026",
     "status": "completed"
    },
    "tags": []
   },
   "outputs": [
    {
     "data": {
      "image/png": "[encoded data removed]",
      "text/plain": [
       "<Figure size 1000x500 with 1 Axes>"
      ]
     },
     "metadata": {},
     "output_type": "display_data"
    },
    {
     "data": {
      "image/png": "[encoded data removed]",
      "text/plain": [
       "<Figure size 600x500 with 1 Axes>"
      ]
     },
     "metadata": {},
     "output_type": "display_data"
    }
   ],
   "source": [
    "cores = ['#2C5F85', '#FF7F0E', '#8FBC8F']\n",
    "\n",
    "results_melted_erro = results_df.melt(id_vars='Modelo', \n",
    "                                     value_vars=['RMSE', 'MAE'],\n",
    "                                     var_name='Métrica', \n",
    "                                     value_name='Valor')\n",
    "\n",
    "plt.figure(figsize=(10, 5))\n",
    "sns.barplot(\n",
    "    x='Métrica', \n",
    "    y='Valor', \n",
    "    hue='Modelo', \n",
    "    data=results_melted_erro, \n",
    "    palette=cores \n",
    ")\n",
    "plt.title('Comparação de Erro (RMSE e MAE)', fontsize=16)\n",
    "plt.ylabel('Valor da Métrica (em Vendas)', fontsize=12)\n",
    "plt.axhline(y=0, color='red', linestyle='--', label='Erro Ideal')\n",
    "plt.legend(title='Modelo')\n",
    "plt.show()\n",
    "\n",
    "# Filtra apenas o R2\n",
    "results_r2 = results_df.melt(id_vars='Modelo', \n",
    "                            value_vars=['R2'],\n",
    "                            var_name='Métrica', \n",
    "                            value_name='Valor')\n",
    "\n",
    "plt.figure(figsize=(6, 5))\n",
    "sns.barplot(\n",
    "    x='Modelo', \n",
    "    y='Valor', \n",
    "    data=results_r2, \n",
    "    palette=cores \n",
    ")\n",
    "plt.title('Coeficiente de Determinação (R²)', fontsize=16)\n",
    "plt.ylabel('Valor de R²', fontsize=12)\n",
    "plt.axhline(y=1.0, color='gray', linestyle='--', alpha=0.7, label='R² Ideal')\n",
    "plt.axhline(y=results_r2['Valor'].max() * 0.95, color='orange', linestyle=':', alpha=0.7) # Linha de referência\n",
    "plt.ylim(0.0, 1.1) # Limita o eixo Y para visualizar melhor o 0 a 1\n",
    "plt.legend(title='Modelo')\n",
    "plt.show()"
   ]
  },
  {
   "cell_type": "markdown",
   "id": "6b55d574",
   "metadata": {
    "papermill": {
     "duration": 0.005596,
     "end_time": "2025-10-27T04:26:41.234206",
     "exception": false,
     "start_time": "2025-10-27T04:26:41.228610",
     "status": "completed"
    },
    "tags": []
   },
   "source": [
    "---\n",
    "\n",
    "## 5.2 Importância das Variáveis\n",
    "\n",
    "<h3 style=\"color: #FF4500; margin-top: 0; margin-bottom: 5px;\">Resumo das Variáveis Impactantes:</h3> <br>\n",
    "\n",
    "Na Regressão Linear, a importância é direta e causal: o valor e o sinal do coeficiente ($\\beta$) de cada variável indicam a magnitude e a direção exata de sua influência na variável alvo (explicando como um aumento na variável X afeta Y). Já em modelos de Machine Learning mais complexos, como Árvore de Decisão e XGBoost, a importância é preditiva: ela é medida pelo Ganho ou Frequência com que a variável foi utilizada para reduzir o erro do modelo, priorizando a precisão em vez da explicabilidade. Assim, enquanto a Regressão Linear oferece uma fórmula transparente de causa e efeito, os modelos baseados em árvores fornecem um ranking do poder preditivo de cada variável."
   ]
  },
  {
   "cell_type": "code",
   "execution_count": 5,
   "id": "33bc9fd5",
   "metadata": {
    "execution": {
     "iopub.execute_input": "2025-10-27T04:26:41.246867Z",
     "iopub.status.busy": "2025-10-27T04:26:41.246558Z",
     "iopub.status.idle": "2025-10-27T04:26:41.479797Z",
     "shell.execute_reply": "2025-10-27T04:26:41.478464Z"
    },
    "papermill": {
     "duration": 0.24163,
     "end_time": "2025-10-27T04:26:41.481553",
     "exception": false,
     "start_time": "2025-10-27T04:26:41.239923",
     "status": "completed"
    },
    "tags": []
   },
   "outputs": [
    {
     "name": "stdout",
     "output_type": "stream",
     "text": [
      "\n",
      "Top 10 Coeficientes (Importância) da Regressão Linear:\n"
     ]
    },
    {
     "data": {
      "text/html": [
       "<div>\n",
       "<style scoped>\n",
       "    .dataframe tbody tr th:only-of-type {\n",
       "        vertical-align: middle;\n",
       "    }\n",
       "\n",
       "    .dataframe tbody tr th {\n",
       "        vertical-align: top;\n",
       "    }\n",
       "\n",
       "    .dataframe thead th {\n",
       "        text-align: right;\n",
       "    }\n",
       "</style>\n",
       "<table border=\"1\" class=\"dataframe\">\n",
       "  <thead>\n",
       "    <tr style=\"text-align: right;\">\n",
       "      <th></th>\n",
       "      <th>Feature</th>\n",
       "      <th>Coefficient</th>\n",
       "      <th>Abs_Coefficient</th>\n",
       "      <th>Sinal</th>\n",
       "    </tr>\n",
       "  </thead>\n",
       "  <tbody>\n",
       "    <tr>\n",
       "      <th>12</th>\n",
       "      <td>Promo2SinceYear</td>\n",
       "      <td>-39159.354953</td>\n",
       "      <td>39159.354953</td>\n",
       "      <td>Negativo</td>\n",
       "    </tr>\n",
       "    <tr>\n",
       "      <th>10</th>\n",
       "      <td>Promo2</td>\n",
       "      <td>38517.119800</td>\n",
       "      <td>38517.119800</td>\n",
       "      <td>Positivo</td>\n",
       "    </tr>\n",
       "    <tr>\n",
       "      <th>2</th>\n",
       "      <td>Promo</td>\n",
       "      <td>1067.563735</td>\n",
       "      <td>1067.563735</td>\n",
       "      <td>Positivo</td>\n",
       "    </tr>\n",
       "    <tr>\n",
       "      <th>6</th>\n",
       "      <td>Assortment</td>\n",
       "      <td>410.334774</td>\n",
       "      <td>410.334774</td>\n",
       "      <td>Positivo</td>\n",
       "    </tr>\n",
       "    <tr>\n",
       "      <th>11</th>\n",
       "      <td>Promo2SinceWeek</td>\n",
       "      <td>302.181767</td>\n",
       "      <td>302.181767</td>\n",
       "      <td>Positivo</td>\n",
       "    </tr>\n",
       "    <tr>\n",
       "      <th>14</th>\n",
       "      <td>Month</td>\n",
       "      <td>249.869814</td>\n",
       "      <td>249.869814</td>\n",
       "      <td>Positivo</td>\n",
       "    </tr>\n",
       "    <tr>\n",
       "      <th>0</th>\n",
       "      <td>DayOfWeek</td>\n",
       "      <td>-234.316956</td>\n",
       "      <td>234.316956</td>\n",
       "      <td>Negativo</td>\n",
       "    </tr>\n",
       "    <tr>\n",
       "      <th>7</th>\n",
       "      <td>CompetitionDistance</td>\n",
       "      <td>-225.221349</td>\n",
       "      <td>225.221349</td>\n",
       "      <td>Negativo</td>\n",
       "    </tr>\n",
       "    <tr>\n",
       "      <th>8</th>\n",
       "      <td>CompetitionOpenSinceMonth</td>\n",
       "      <td>-193.987380</td>\n",
       "      <td>193.987380</td>\n",
       "      <td>Negativo</td>\n",
       "    </tr>\n",
       "    <tr>\n",
       "      <th>9</th>\n",
       "      <td>CompetitionOpenSinceYear</td>\n",
       "      <td>186.816258</td>\n",
       "      <td>186.816258</td>\n",
       "      <td>Positivo</td>\n",
       "    </tr>\n",
       "  </tbody>\n",
       "</table>\n",
       "</div>"
      ],
      "text/plain": [
       "                      Feature   Coefficient  Abs_Coefficient     Sinal\n",
       "12            Promo2SinceYear -39159.354953     39159.354953  Negativo\n",
       "10                     Promo2  38517.119800     38517.119800  Positivo\n",
       "2                       Promo   1067.563735      1067.563735  Positivo\n",
       "6                  Assortment    410.334774       410.334774  Positivo\n",
       "11            Promo2SinceWeek    302.181767       302.181767  Positivo\n",
       "14                      Month    249.869814       249.869814  Positivo\n",
       "0                   DayOfWeek   -234.316956       234.316956  Negativo\n",
       "7         CompetitionDistance   -225.221349       225.221349  Negativo\n",
       "8   CompetitionOpenSinceMonth   -193.987380       193.987380  Negativo\n",
       "9    CompetitionOpenSinceYear    186.816258       186.816258  Positivo"
      ]
     },
     "metadata": {},
     "output_type": "display_data"
    },
    {
     "data": {
      "image/png": "[encoded data removed]",
      "text/plain": [
       "<Figure size 800x500 with 1 Axes>"
      ]
     },
     "metadata": {},
     "output_type": "display_data"
    }
   ],
   "source": [
    "# Importância Regressão Linear\n",
    "\n",
    "linear_model = models['Regressão Linear']\n",
    "\n",
    "coefficients = linear_model.coef_\n",
    "\n",
    "features = X_train.columns\n",
    "\n",
    "# Criar DataFrame com os coeficientes e suas magnitudes absolutas\n",
    "importance_df_lr = pd.DataFrame({\n",
    "    'Feature': features,\n",
    "    'Coefficient': coefficients,\n",
    "    'Abs_Coefficient': np.abs(coefficients),\n",
    "    'Sinal': np.where(coefficients > 0, 'Positivo', 'Negativo')\n",
    "}).sort_values(by='Abs_Coefficient', ascending=False)\n",
    "\n",
    "print(\"\\nTop 10 Coeficientes (Importância) da Regressão Linear:\")\n",
    "display(importance_df_lr.head(10))\n",
    "\n",
    "# Visualização\n",
    "plt.figure(figsize=(8,5))\n",
    "plt.barh(\n",
    "    importance_df_lr['Feature'].head(10),\n",
    "    importance_df_lr['Abs_Coefficient'].head(10),\n",
    "    color='skyblue'\n",
    ")\n",
    "plt.title('Top 10 Variáveis mais Influentes - Regressão Linear', fontsize=12, pad=10)\n",
    "plt.xlabel('Magnitude do Coeficiente', fontsize=10)\n",
    "plt.ylabel('Variável', fontsize=10)\n",
    "plt.gca().invert_yaxis()\n",
    "plt.grid(axis='x', linestyle='--', alpha=0.6)\n",
    "plt.show()\n"
   ]
  },
  {
   "cell_type": "code",
   "execution_count": 6,
   "id": "368adb99",
   "metadata": {
    "execution": {
     "iopub.execute_input": "2025-10-27T04:26:41.497996Z",
     "iopub.status.busy": "2025-10-27T04:26:41.497672Z",
     "iopub.status.idle": "2025-10-27T04:26:41.735436Z",
     "shell.execute_reply": "2025-10-27T04:26:41.734214Z"
    },
    "papermill": {
     "duration": 0.24788,
     "end_time": "2025-10-27T04:26:41.737360",
     "exception": false,
     "start_time": "2025-10-27T04:26:41.489480",
     "status": "completed"
    },
    "tags": []
   },
   "outputs": [
    {
     "data": {
      "image/png": "[encoded data removed]",
      "text/plain": [
       "<Figure size 1000x600 with 1 Axes>"
      ]
     },
     "metadata": {},
     "output_type": "display_data"
    }
   ],
   "source": [
    "# Importância Árvore de Decisão e XGBoost.\n",
    "if best_model_name != \"Regressão Linear\":\n",
    "    \n",
    "    importances = best_model.feature_importances_\n",
    "    features = X_train.columns\n",
    "    \n",
    "    # Cria DataFrame para ordenação\n",
    "    importance_df = pd.DataFrame({\n",
    "        'Feature': features,\n",
    "        'Importance': importances\n",
    "    }).sort_values(by='Importance', ascending=False).head(10)\n",
    "\n",
    "    # Visualização\n",
    "    plt.figure(figsize=(10, 6))\n",
    "    sns.barplot(x='Importance', y='Feature', data=importance_df, palette=\"viridis\")\n",
    "    plt.title(f'Top 10 Variáveis mais Impactantes ({best_model_name})')\n",
    "    plt.show()"
   ]
  },
  {
   "cell_type": "markdown",
   "id": "e3e95f13",
   "metadata": {
    "papermill": {
     "duration": 0.008833,
     "end_time": "2025-10-27T04:26:41.754985",
     "exception": false,
     "start_time": "2025-10-27T04:26:41.746152",
     "status": "completed"
    },
    "tags": []
   },
   "source": [
    "---\n",
    "\n",
    "# 6. Act ~ Conclusão e Insights para o Varejo\n",
    "\n",
    "Esta fase consolida os resultados da modelagem para responder às perguntas centrais do negócio.\n",
    "\n",
    "## 6.1 Qual Modelo Apresentou a Menor Margem de Erro?\n",
    "\n",
    "Conforme a **Tabela de Comparação de Desempenho**, o modelo que demonstrou a maior eficiência e a menor margem de erro foi o **XGBoost**.\n",
    "\n",
    "* **Modelo Vencedor:** XGBoost\n",
    "* **Performance:** Obteve o menor **RMSE** (Erro Quadrático Médio) e o maior **R²** (Coeficiente de Determinação).\n",
    "    * *O XGBoost é ideal para dados de varejo por sua capacidade de capturar relações complexas e não-lineares, superando a simplicidade da Regressão Linear.*\n",
    "\n",
    "## 6.2 Quais Variáveis Tiveram Maior Impacto nas Previsões?\n",
    "\n",
    "* Promoção 1 **(Promo)**: Lidera no XGBoost e tem impacto considerável na Regressão Linear.\n",
    "\n",
    "* **Promoção Contínua 2 (Promo2)** e seu Fator Tempo **(Promo2SinceYear)**: Dominam o ranking da Regressão Linear e são muito relevantes no XGBoost.\n",
    "\n",
    "O XGBoost (que teve o melhor desempenho geral) sugere que a Promoção Semanal (Promo) é o fator preditivo mais importante. Já a Regressão Linear atribui o maior peso à Promoção Contínua (Promo2) e ao tempo em que ela está ativa (Promo2SinceYear).\n"
   ]
  }
 ],
 "metadata": {
  "kaggle": {
   "accelerator": "none",
   "dataSources": [
    {
     "datasetId": 109852,
     "sourceId": 262482,
     "sourceType": "datasetVersion"
    }
   ],
   "dockerImageVersionId": 31153,
   "isGpuEnabled": false,
   "isInternetEnabled": true,
   "language": "python",
   "sourceType": "notebook"
  },
  "kernelspec": {
   "display_name": "Python 3",
   "language": "python",
   "name": "python3"
  },
  "language_info": {
   "codemirror_mode": {
    "name": "ipython",
    "version": 3
   },
   "file_extension": ".py",
   "mimetype": "text/x-python",
   "name": "python",
   "nbconvert_exporter": "python",
   "pygments_lexer": "ipython3",
   "version": "3.11.13"
  },
  "papermill": {
   "default_parameters": {},
   "duration": 22.780118,
   "end_time": "2025-10-27T04:26:42.485110",
   "environment_variables": {},
   "exception": null,
   "input_path": "__notebook__.ipynb",
   "output_path": "__notebook__.ipynb",
   "parameters": {},
   "start_time": "2025-10-27T04:26:19.704992",
   "version": "2.6.0"
  }
 },
 "nbformat": 4,
 "nbformat_minor": 5
}
