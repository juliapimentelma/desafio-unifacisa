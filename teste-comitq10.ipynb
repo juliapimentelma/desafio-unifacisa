{
 "cells": [
  {
   "cell_type": "markdown",
   "id": "51742c58",
   "metadata": {
    "papermill": {
     "duration": 0.002223,
     "end_time": "2025-10-25T18:37:35.783300",
     "exception": false,
     "start_time": "2025-10-25T18:37:35.781077",
     "status": "completed"
    },
    "tags": []
   },
   "source": [
    "<h1 style=\"text-align: center; color: blue;\">\n",
    "ADS ~ UNIFACISA <br>\n",
    "Projeto Integrador IA\n",
    "</h1>\n",
    "\n",
    "#### Autor : Tawan Barbosa da Silva\n",
    "#### Desafio Unifacisa ~ Questão 10\n",
    "\n",
    "\n",
    "---\n",
    "\n",
    "> # <center>Previsão de Vendas Mensais em Rede de Varejo  </center>\n",
    "> <center><img src=\"https://media.tenor.com/Y8Po-y0pXQ8AAAAe/stonks-meme.png\"></center>\n",
    "\n",
    "---"
   ]
  },
  {
   "cell_type": "markdown",
   "id": "5512423c",
   "metadata": {
    "papermill": {
     "duration": 0.001275,
     "end_time": "2025-10-25T18:37:35.786453",
     "exception": false,
     "start_time": "2025-10-25T18:37:35.785178",
     "status": "completed"
    },
    "tags": []
   },
   "source": [
    "# <h1 style=\"color: darkblue; margin-bottom: 0;\">1. Ask ~ Pergunta Principal</h1>\n",
    "\n",
    "---\n",
    "\n",
    "## Pergunta Principal\n",
    "\n",
    "><i> **Com base em variáveis operacionais e promocionais (publicidade, funcionários, sazonalidade), qual é o modelo de Machine Learning mais preciso para prever as vendas mensais, garantindo a menor margem de erro?\"**\n",
    "</i>\n",
    "\n",
    "\n",
    "## Objetivo do Projeto\n",
    "\n",
    "\n",
    "><i> O objetivo técnico é construir, treinar e comparar múltiplos modelos de regressão para previsão de vendas, focando em:\n",
    "</i>\n",
    "\n",
    "* Minimizar o Erro: Atingir o menor valor de RMSE e MAE no conjunto de testes.\n",
    "* Maximizar o Ajuste: Obter o maior valor de $R^2$ (Coeficiente de Determinação).\n",
    "* Identificar Fatores Chave: Realizar a Análise de Importância de Variáveis para determinar quais fatores (publicidade, promoções, etc.) são mais impactantes nas vendas.\n",
    "\n",
    "\n",
    "---"
   ]
  },
  {
   "cell_type": "markdown",
   "id": "3e95c2fb",
   "metadata": {
    "papermill": {
     "duration": 0.001181,
     "end_time": "2025-10-25T18:37:35.788994",
     "exception": false,
     "start_time": "2025-10-25T18:37:35.787813",
     "status": "completed"
    },
    "tags": []
   },
   "source": [
    "# <h1 style=\"color: darkblue; margin-bottom: 0;\">2. Prepare ~ Coleta e Entendimento dos Dados</h1>\n",
    "---\n",
    "><i> **Usaremos o dataset Rossmann Store Sales (Kaggle)**\n",
    "\n",
    "\n",
    "<h3 style=\"color: #FF4500; margin-top: 0; margin-bottom: 5px;\">Principais Arquivos:</h3> <br>"
   ]
  },
  {
   "cell_type": "code",
   "execution_count": 1,
   "id": "afcfee63",
   "metadata": {
    "execution": {
     "iopub.execute_input": "2025-10-25T18:37:35.793022Z",
     "iopub.status.busy": "2025-10-25T18:37:35.792726Z",
     "iopub.status.idle": "2025-10-25T18:37:55.921290Z",
     "shell.execute_reply": "2025-10-25T18:37:55.920245Z"
    },
    "papermill": {
     "duration": 20.132503,
     "end_time": "2025-10-25T18:37:55.922828",
     "exception": false,
     "start_time": "2025-10-25T18:37:35.790325",
     "status": "completed"
    },
    "tags": []
   },
   "outputs": [
    {
     "name": "stderr",
     "output_type": "stream",
     "text": [
      "2025-10-25 18:37:41.213660: E external/local_xla/xla/stream_executor/cuda/cuda_fft.cc:477] Unable to register cuFFT factory: Attempting to register factory for plugin cuFFT when one has already been registered\n",
      "WARNING: All log messages before absl::InitializeLog() is called are written to STDERR\n",
      "E0000 00:00:1761417461.449472      13 cuda_dnn.cc:8310] Unable to register cuDNN factory: Attempting to register factory for plugin cuDNN when one has already been registered\n",
      "E0000 00:00:1761417461.515773      13 cuda_blas.cc:1418] Unable to register cuBLAS factory: Attempting to register factory for plugin cuBLAS when one has already been registered\n"
     ]
    },
    {
     "name": "stdout",
     "output_type": "stream",
     "text": [
      "Importarções e leitura dos dados realizadas com sucesso\n"
     ]
    }
   ],
   "source": [
    "# Bibliotecas\n",
    "import pandas as pd\n",
    "import numpy as np\n",
    "import matplotlib.pyplot as plt\n",
    "import seaborn as sns\n",
    "import ast\n",
    "from pathlib import Path\n",
    "\n",
    "from sklearn.model_selection import train_test_split\n",
    "from sklearn.metrics import mean_squared_error, mean_absolute_error\n",
    "from sklearn.metrics.pairwise import cosine_similarity\n",
    "from sklearn.preprocessing import MinMaxScaler\n",
    "\n",
    "import tensorflow as tf\n",
    "from tensorflow import keras\n",
    "from tensorflow.keras import layers\n",
    "\n",
    "import warnings\n",
    "warnings.filterwarnings('ignore')\n",
    "\n",
    "# Caminho dos dados e métricas principais\n",
    "path = Path('/kaggle/input/rossmann-store-sales')\n",
    "\n",
    "store = pd.read_csv(path / 'store.csv')\n",
    "test = pd.read_csv(path / 'test.csv')\n",
    "train = pd.read_csv(path / 'train.csv')\n",
    "\n",
    "print(\"Importarções e leitura dos dados realizadas com sucesso\")"
   ]
  },
  {
   "cell_type": "markdown",
   "id": "6ce6cdbd",
   "metadata": {
    "papermill": {
     "duration": 0.001553,
     "end_time": "2025-10-25T18:37:55.926387",
     "exception": false,
     "start_time": "2025-10-25T18:37:55.924834",
     "status": "completed"
    },
    "tags": []
   },
   "source": []
  }
 ],
 "metadata": {
  "kaggle": {
   "accelerator": "none",
   "dataSources": [
    {
     "datasetId": 109852,
     "sourceId": 262482,
     "sourceType": "datasetVersion"
    }
   ],
   "dockerImageVersionId": 31153,
   "isGpuEnabled": false,
   "isInternetEnabled": true,
   "language": "python",
   "sourceType": "notebook"
  },
  "kernelspec": {
   "display_name": "Python 3",
   "language": "python",
   "name": "python3"
  },
  "language_info": {
   "codemirror_mode": {
    "name": "ipython",
    "version": 3
   },
   "file_extension": ".py",
   "mimetype": "text/x-python",
   "name": "python",
   "nbconvert_exporter": "python",
   "pygments_lexer": "ipython3",
   "version": "3.11.13"
  },
  "papermill": {
   "default_parameters": {},
   "duration": 27.064444,
   "end_time": "2025-10-25T18:37:58.596265",
   "environment_variables": {},
   "exception": null,
   "input_path": "__notebook__.ipynb",
   "output_path": "__notebook__.ipynb",
   "parameters": {},
   "start_time": "2025-10-25T18:37:31.531821",
   "version": "2.6.0"
  }
 },
 "nbformat": 4,
 "nbformat_minor": 5
}
